{
  "nbformat": 4,
  "nbformat_minor": 0,
  "metadata": {
    "colab": {
      "name": "Pertemuan4_Faiq Fadhlurrahman El Hakim.ipynb",
      "provenance": [],
      "authorship_tag": "ABX9TyPSjXy+uDCRhrPDAANJd7DO",
      "include_colab_link": true
    },
    "kernelspec": {
      "name": "python3",
      "display_name": "Python 3"
    },
    "language_info": {
      "name": "python"
    }
  },
  "cells": [
    {
      "cell_type": "markdown",
      "metadata": {
        "id": "view-in-github",
        "colab_type": "text"
      },
      "source": [
        "<a href=\"https://colab.research.google.com/github/FaiqFadhlurrahmanElHakim/MachineLearning/blob/main/Pertemuan4_Faiq_Fadhlurrahman_El_Hakim.ipynb\" target=\"_parent\"><img src=\"https://colab.research.google.com/assets/colab-badge.svg\" alt=\"Open In Colab\"/></a>"
      ]
    },
    {
      "cell_type": "code",
      "execution_count": 8,
      "metadata": {
        "id": "vi5OGKDdeXFV"
      },
      "outputs": [],
      "source": [
        "import numpy as np\n",
        "import matplotlib.pyplot as plt\n",
        "import pandas as pd"
      ]
    },
    {
      "cell_type": "code",
      "source": [
        "url = \"/content/NYC_Motor_Vehicle_Collisions_to_Person.csv\"\n",
        "dataset = pd.read_csv(url)"
      ],
      "metadata": {
        "id": "_VVcRE7Beh7Y"
      },
      "execution_count": 9,
      "outputs": []
    },
    {
      "cell_type": "code",
      "source": [
        "X = dataset.iloc[:, 1:2].values\n",
        "y = dataset.iloc[:, 2:3].values"
      ],
      "metadata": {
        "id": "GB_UsIZ3kNHk"
      },
      "execution_count": 10,
      "outputs": []
    },
    {
      "cell_type": "code",
      "source": [
        "from sklearn.preprocessing import StandardScaler\n",
        "sc_X = StandardScaler()\n",
        "sc_y = StandardScaler()\n",
        "X = sc_X.fit_transform(X)\n",
        "y = sc_y.fit_transform(y)"
      ],
      "metadata": {
        "id": "ui4v2cu2kO5b"
      },
      "execution_count": null,
      "outputs": []
    },
    {
      "cell_type": "code",
      "source": [
        "from sklearn.svm import SVR\n",
        "regressor = SVR(kernel = 'rbf')\n",
        "regressor.fit(X, y)"
      ],
      "metadata": {
        "id": "uyt6smDwkQ9c"
      },
      "execution_count": null,
      "outputs": []
    },
    {
      "cell_type": "code",
      "source": [
        "plt.scatter(X, y, color = 'red')\n",
        "plt.plot(X, regressor.predict(X), color = 'blue')\n",
        "plt.title('Kadar emisi kendaraan bermotor')\n",
        "plt.xlabel('Kadar')\n",
        "plt.ylabel('Level')\n",
        "plt.show()"
      ],
      "metadata": {
        "id": "3reX6XRLkX3G"
      },
      "execution_count": null,
      "outputs": []
    },
    {
      "cell_type": "code",
      "source": [
        "y_pred = regressor.predict(sc_X.transform(np.array([[6.5]])))\n",
        "\n",
        "y_pred = y_pred.reshape(-1, 1)\n",
        "y_pred = sc_y.inverse_transform(y_pred) \n",
        "y_pred"
      ],
      "metadata": {
        "id": "jTB2tPJhkbis"
      },
      "execution_count": null,
      "outputs": []
    },
    {
      "cell_type": "code",
      "source": [
        "X_grid = np.arange(min(X), max(X), 0.01) \n",
        "X_grid = X_grid.reshape((len(X_grid), 1))\n",
        "plt.scatter(X, y, color = 'red')\n",
        "plt.plot(X_grid, regressor.predict(X_grid), color = 'blue')\n",
        "plt.title('Kadar emisi kendaraan bermotor')\n",
        "plt.xlabel('Kadar')\n",
        "plt.ylabel('Level')\n",
        "plt.show()"
      ],
      "metadata": {
        "id": "AjdlBvWVxxDQ"
      },
      "execution_count": null,
      "outputs": []
    },
    {
      "cell_type": "markdown",
      "source": [
        "Decision Tree"
      ],
      "metadata": {
        "id": "eSlVnAUqyJhY"
      }
    },
    {
      "cell_type": "code",
      "source": [
        "import numpy as np\n",
        "import matplotlib.pyplot as plt\n",
        "import pandas as pd"
      ],
      "metadata": {
        "id": "EpyIvHhyyAEg"
      },
      "execution_count": 1,
      "outputs": []
    },
    {
      "cell_type": "code",
      "source": [
        "dataset = pd.read_csv('/content/NYC_Motor_Vehicle_Collisions_to_Person.csv')\n",
        "X = dataset['CRASH_DATE'].values\n",
        "y = dataset['PERSON_INJURY'].values\n",
        "dataset.head(5)"
      ],
      "metadata": {
        "colab": {
          "base_uri": "https://localhost:8080/",
          "height": 543
        },
        "id": "0KlxmAJwyL6p",
        "outputId": "0e98ed4a-6b3f-45b2-c240-24efed495701"
      },
      "execution_count": 3,
      "outputs": [
        {
          "output_type": "execute_result",
          "data": {
            "text/plain": [
              "   CRASH_DATE CRASH_TIME PERSON_INJURY  PERSON_AGE BODILY_INJURY  \\\n",
              "0  2021-05-02      21:00        Killed        62.0          Head   \n",
              "1  2021-05-21       0:00        Killed        24.0   Entire Body   \n",
              "2  2021-10-15       2:00        Killed        30.0          Head   \n",
              "3  2021-04-17      13:00        Killed        71.0          Head   \n",
              "4  2021-05-25      22:00        Killed        69.0   Entire Body   \n",
              "\n",
              "   SAFETY_EQUIPMENT PERSON_SEX PERSON_TYPE  \\\n",
              "0               NaN          F  Pedestrian   \n",
              "1  Air Bag Deployed          M    Occupant   \n",
              "2              None          M    Occupant   \n",
              "3               NaN          M  Pedestrian   \n",
              "4               NaN          F  Pedestrian   \n",
              "\n",
              "                                        PED_LOCATION  \\\n",
              "0  Pedestrian/Bicyclist/Other Pedestrian at Inter...   \n",
              "1                                                NaN   \n",
              "2                                                NaN   \n",
              "3  Pedestrian/Bicyclist/Other Pedestrian Not at I...   \n",
              "4  Pedestrian/Bicyclist/Other Pedestrian Not at I...   \n",
              "\n",
              "                               CONTRIBUTING_FACTOR_2  ...        COMPLAINT  \\\n",
              "0  Pedestrian/Bicyclist/Other Pedestrian Error/Co...  ...  Severe Bleeding   \n",
              "1                                                NaN  ...         Internal   \n",
              "2                                                NaN  ...         Internal   \n",
              "3                                        Unspecified  ...         Internal   \n",
              "4                                        Unspecified  ...     None Visible   \n",
              "\n",
              "  EMOTIONAL_STATUS  VEHICLE_ID                             PERSON_ID  \\\n",
              "0   Apparent Death         NaN  f2f329b6-2dfc-4bd0-b751-2e4255f1ea06   \n",
              "1   Apparent Death  19986231.0  e27e12a2-0485-4e22-b692-3f8a765d2582   \n",
              "2   Apparent Death  20091024.0  1a6f5aa7-5125-4be2-8499-fe7977cb0d90   \n",
              "3      Unconscious         NaN  b950706b-00a4-485c-84c5-777208cc3cc9   \n",
              "4        Conscious         NaN  6504ea0a-c92d-444c-8127-284943be9aac   \n",
              "\n",
              "                               CONTRIBUTING_FACTOR_1 POSITION_IN_VEHICLE  \\\n",
              "0                        Traffic Control Disregarded                 NaN   \n",
              "1                                                NaN              Driver   \n",
              "2                                                NaN              Driver   \n",
              "3  Pedestrian/Bicyclist/Other Pedestrian Error/Co...                 NaN   \n",
              "4                                        Unspecified                 NaN   \n",
              "\n",
              "     PED_ROLE UNIQUE_ID                             PED_ACTION COLLISION_ID  \n",
              "0  Pedestrian  11791937                Crossing Against Signal      4412948  \n",
              "1      Driver  11819198                                    NaN      4419608  \n",
              "2      Driver  11998317                                    NaN      4467504  \n",
              "3  Pedestrian  11745791      Crossing, No Signal, or Crosswalk      4408062  \n",
              "4  Pedestrian  11991283  Crossing, No Signal, Marked Crosswalk      4420918  \n",
              "\n",
              "[5 rows x 21 columns]"
            ],
            "text/html": [
              "\n",
              "  <div id=\"df-2b7bcc32-bba3-4126-8107-b39912cd1b0c\">\n",
              "    <div class=\"colab-df-container\">\n",
              "      <div>\n",
              "<style scoped>\n",
              "    .dataframe tbody tr th:only-of-type {\n",
              "        vertical-align: middle;\n",
              "    }\n",
              "\n",
              "    .dataframe tbody tr th {\n",
              "        vertical-align: top;\n",
              "    }\n",
              "\n",
              "    .dataframe thead th {\n",
              "        text-align: right;\n",
              "    }\n",
              "</style>\n",
              "<table border=\"1\" class=\"dataframe\">\n",
              "  <thead>\n",
              "    <tr style=\"text-align: right;\">\n",
              "      <th></th>\n",
              "      <th>CRASH_DATE</th>\n",
              "      <th>CRASH_TIME</th>\n",
              "      <th>PERSON_INJURY</th>\n",
              "      <th>PERSON_AGE</th>\n",
              "      <th>BODILY_INJURY</th>\n",
              "      <th>SAFETY_EQUIPMENT</th>\n",
              "      <th>PERSON_SEX</th>\n",
              "      <th>PERSON_TYPE</th>\n",
              "      <th>PED_LOCATION</th>\n",
              "      <th>CONTRIBUTING_FACTOR_2</th>\n",
              "      <th>...</th>\n",
              "      <th>COMPLAINT</th>\n",
              "      <th>EMOTIONAL_STATUS</th>\n",
              "      <th>VEHICLE_ID</th>\n",
              "      <th>PERSON_ID</th>\n",
              "      <th>CONTRIBUTING_FACTOR_1</th>\n",
              "      <th>POSITION_IN_VEHICLE</th>\n",
              "      <th>PED_ROLE</th>\n",
              "      <th>UNIQUE_ID</th>\n",
              "      <th>PED_ACTION</th>\n",
              "      <th>COLLISION_ID</th>\n",
              "    </tr>\n",
              "  </thead>\n",
              "  <tbody>\n",
              "    <tr>\n",
              "      <th>0</th>\n",
              "      <td>2021-05-02</td>\n",
              "      <td>21:00</td>\n",
              "      <td>Killed</td>\n",
              "      <td>62.0</td>\n",
              "      <td>Head</td>\n",
              "      <td>NaN</td>\n",
              "      <td>F</td>\n",
              "      <td>Pedestrian</td>\n",
              "      <td>Pedestrian/Bicyclist/Other Pedestrian at Inter...</td>\n",
              "      <td>Pedestrian/Bicyclist/Other Pedestrian Error/Co...</td>\n",
              "      <td>...</td>\n",
              "      <td>Severe Bleeding</td>\n",
              "      <td>Apparent Death</td>\n",
              "      <td>NaN</td>\n",
              "      <td>f2f329b6-2dfc-4bd0-b751-2e4255f1ea06</td>\n",
              "      <td>Traffic Control Disregarded</td>\n",
              "      <td>NaN</td>\n",
              "      <td>Pedestrian</td>\n",
              "      <td>11791937</td>\n",
              "      <td>Crossing Against Signal</td>\n",
              "      <td>4412948</td>\n",
              "    </tr>\n",
              "    <tr>\n",
              "      <th>1</th>\n",
              "      <td>2021-05-21</td>\n",
              "      <td>0:00</td>\n",
              "      <td>Killed</td>\n",
              "      <td>24.0</td>\n",
              "      <td>Entire Body</td>\n",
              "      <td>Air Bag Deployed</td>\n",
              "      <td>M</td>\n",
              "      <td>Occupant</td>\n",
              "      <td>NaN</td>\n",
              "      <td>NaN</td>\n",
              "      <td>...</td>\n",
              "      <td>Internal</td>\n",
              "      <td>Apparent Death</td>\n",
              "      <td>19986231.0</td>\n",
              "      <td>e27e12a2-0485-4e22-b692-3f8a765d2582</td>\n",
              "      <td>NaN</td>\n",
              "      <td>Driver</td>\n",
              "      <td>Driver</td>\n",
              "      <td>11819198</td>\n",
              "      <td>NaN</td>\n",
              "      <td>4419608</td>\n",
              "    </tr>\n",
              "    <tr>\n",
              "      <th>2</th>\n",
              "      <td>2021-10-15</td>\n",
              "      <td>2:00</td>\n",
              "      <td>Killed</td>\n",
              "      <td>30.0</td>\n",
              "      <td>Head</td>\n",
              "      <td>None</td>\n",
              "      <td>M</td>\n",
              "      <td>Occupant</td>\n",
              "      <td>NaN</td>\n",
              "      <td>NaN</td>\n",
              "      <td>...</td>\n",
              "      <td>Internal</td>\n",
              "      <td>Apparent Death</td>\n",
              "      <td>20091024.0</td>\n",
              "      <td>1a6f5aa7-5125-4be2-8499-fe7977cb0d90</td>\n",
              "      <td>NaN</td>\n",
              "      <td>Driver</td>\n",
              "      <td>Driver</td>\n",
              "      <td>11998317</td>\n",
              "      <td>NaN</td>\n",
              "      <td>4467504</td>\n",
              "    </tr>\n",
              "    <tr>\n",
              "      <th>3</th>\n",
              "      <td>2021-04-17</td>\n",
              "      <td>13:00</td>\n",
              "      <td>Killed</td>\n",
              "      <td>71.0</td>\n",
              "      <td>Head</td>\n",
              "      <td>NaN</td>\n",
              "      <td>M</td>\n",
              "      <td>Pedestrian</td>\n",
              "      <td>Pedestrian/Bicyclist/Other Pedestrian Not at I...</td>\n",
              "      <td>Unspecified</td>\n",
              "      <td>...</td>\n",
              "      <td>Internal</td>\n",
              "      <td>Unconscious</td>\n",
              "      <td>NaN</td>\n",
              "      <td>b950706b-00a4-485c-84c5-777208cc3cc9</td>\n",
              "      <td>Pedestrian/Bicyclist/Other Pedestrian Error/Co...</td>\n",
              "      <td>NaN</td>\n",
              "      <td>Pedestrian</td>\n",
              "      <td>11745791</td>\n",
              "      <td>Crossing, No Signal, or Crosswalk</td>\n",
              "      <td>4408062</td>\n",
              "    </tr>\n",
              "    <tr>\n",
              "      <th>4</th>\n",
              "      <td>2021-05-25</td>\n",
              "      <td>22:00</td>\n",
              "      <td>Killed</td>\n",
              "      <td>69.0</td>\n",
              "      <td>Entire Body</td>\n",
              "      <td>NaN</td>\n",
              "      <td>F</td>\n",
              "      <td>Pedestrian</td>\n",
              "      <td>Pedestrian/Bicyclist/Other Pedestrian Not at I...</td>\n",
              "      <td>Unspecified</td>\n",
              "      <td>...</td>\n",
              "      <td>None Visible</td>\n",
              "      <td>Conscious</td>\n",
              "      <td>NaN</td>\n",
              "      <td>6504ea0a-c92d-444c-8127-284943be9aac</td>\n",
              "      <td>Unspecified</td>\n",
              "      <td>NaN</td>\n",
              "      <td>Pedestrian</td>\n",
              "      <td>11991283</td>\n",
              "      <td>Crossing, No Signal, Marked Crosswalk</td>\n",
              "      <td>4420918</td>\n",
              "    </tr>\n",
              "  </tbody>\n",
              "</table>\n",
              "<p>5 rows × 21 columns</p>\n",
              "</div>\n",
              "      <button class=\"colab-df-convert\" onclick=\"convertToInteractive('df-2b7bcc32-bba3-4126-8107-b39912cd1b0c')\"\n",
              "              title=\"Convert this dataframe to an interactive table.\"\n",
              "              style=\"display:none;\">\n",
              "        \n",
              "  <svg xmlns=\"http://www.w3.org/2000/svg\" height=\"24px\"viewBox=\"0 0 24 24\"\n",
              "       width=\"24px\">\n",
              "    <path d=\"M0 0h24v24H0V0z\" fill=\"none\"/>\n",
              "    <path d=\"M18.56 5.44l.94 2.06.94-2.06 2.06-.94-2.06-.94-.94-2.06-.94 2.06-2.06.94zm-11 1L8.5 8.5l.94-2.06 2.06-.94-2.06-.94L8.5 2.5l-.94 2.06-2.06.94zm10 10l.94 2.06.94-2.06 2.06-.94-2.06-.94-.94-2.06-.94 2.06-2.06.94z\"/><path d=\"M17.41 7.96l-1.37-1.37c-.4-.4-.92-.59-1.43-.59-.52 0-1.04.2-1.43.59L10.3 9.45l-7.72 7.72c-.78.78-.78 2.05 0 2.83L4 21.41c.39.39.9.59 1.41.59.51 0 1.02-.2 1.41-.59l7.78-7.78 2.81-2.81c.8-.78.8-2.07 0-2.86zM5.41 20L4 18.59l7.72-7.72 1.47 1.35L5.41 20z\"/>\n",
              "  </svg>\n",
              "      </button>\n",
              "      \n",
              "  <style>\n",
              "    .colab-df-container {\n",
              "      display:flex;\n",
              "      flex-wrap:wrap;\n",
              "      gap: 12px;\n",
              "    }\n",
              "\n",
              "    .colab-df-convert {\n",
              "      background-color: #E8F0FE;\n",
              "      border: none;\n",
              "      border-radius: 50%;\n",
              "      cursor: pointer;\n",
              "      display: none;\n",
              "      fill: #1967D2;\n",
              "      height: 32px;\n",
              "      padding: 0 0 0 0;\n",
              "      width: 32px;\n",
              "    }\n",
              "\n",
              "    .colab-df-convert:hover {\n",
              "      background-color: #E2EBFA;\n",
              "      box-shadow: 0px 1px 2px rgba(60, 64, 67, 0.3), 0px 1px 3px 1px rgba(60, 64, 67, 0.15);\n",
              "      fill: #174EA6;\n",
              "    }\n",
              "\n",
              "    [theme=dark] .colab-df-convert {\n",
              "      background-color: #3B4455;\n",
              "      fill: #D2E3FC;\n",
              "    }\n",
              "\n",
              "    [theme=dark] .colab-df-convert:hover {\n",
              "      background-color: #434B5C;\n",
              "      box-shadow: 0px 1px 3px 1px rgba(0, 0, 0, 0.15);\n",
              "      filter: drop-shadow(0px 1px 2px rgba(0, 0, 0, 0.3));\n",
              "      fill: #FFFFFF;\n",
              "    }\n",
              "  </style>\n",
              "\n",
              "      <script>\n",
              "        const buttonEl =\n",
              "          document.querySelector('#df-2b7bcc32-bba3-4126-8107-b39912cd1b0c button.colab-df-convert');\n",
              "        buttonEl.style.display =\n",
              "          google.colab.kernel.accessAllowed ? 'block' : 'none';\n",
              "\n",
              "        async function convertToInteractive(key) {\n",
              "          const element = document.querySelector('#df-2b7bcc32-bba3-4126-8107-b39912cd1b0c');\n",
              "          const dataTable =\n",
              "            await google.colab.kernel.invokeFunction('convertToInteractive',\n",
              "                                                     [key], {});\n",
              "          if (!dataTable) return;\n",
              "\n",
              "          const docLinkHtml = 'Like what you see? Visit the ' +\n",
              "            '<a target=\"_blank\" href=https://colab.research.google.com/notebooks/data_table.ipynb>data table notebook</a>'\n",
              "            + ' to learn more about interactive tables.';\n",
              "          element.innerHTML = '';\n",
              "          dataTable['output_type'] = 'display_data';\n",
              "          await google.colab.output.renderOutput(dataTable, element);\n",
              "          const docLink = document.createElement('div');\n",
              "          docLink.innerHTML = docLinkHtml;\n",
              "          element.appendChild(docLink);\n",
              "        }\n",
              "      </script>\n",
              "    </div>\n",
              "  </div>\n",
              "  "
            ]
          },
          "metadata": {},
          "execution_count": 3
        }
      ]
    },
    {
      "cell_type": "code",
      "source": [
        "from sklearn.model_selection import train_test_split\n",
        "X_train, X_test, y_train, y_test = train_test_split(X, y, test_size = 0.05)"
      ],
      "metadata": {
        "id": "T-WlK_ZiyqSs"
      },
      "execution_count": 4,
      "outputs": []
    },
    {
      "cell_type": "code",
      "source": [
        "from sklearn.tree import DecisionTreeRegressor\n",
        "regressor = DecisionTreeRegressor()\n",
        "regressor.fit(X_train.reshape(-1,1), y_train.reshape(-1,1))"
      ],
      "metadata": {
        "id": "Yxxc1ERfy-Pw"
      },
      "execution_count": null,
      "outputs": []
    },
    {
      "cell_type": "code",
      "source": [
        "y_pred = regressor.predict(X_test.reshape(-1,1))"
      ],
      "metadata": {
        "id": "BJWqFyNazBbS"
      },
      "execution_count": null,
      "outputs": []
    },
    {
      "cell_type": "code",
      "source": [
        "y_pred = regressor.predict([[12]])\n",
        "y_pred"
      ],
      "metadata": {
        "id": "MU-Ud6ljzEJJ"
      },
      "execution_count": null,
      "outputs": []
    },
    {
      "cell_type": "code",
      "source": [
        "df = pd.DataFrame({'Real Values':y_test.reshape(-1), 'Predicted Values':y_pred.reshape(-1)})\n",
        "df"
      ],
      "metadata": {
        "id": "DwELBeXnzF2J"
      },
      "execution_count": null,
      "outputs": []
    },
    {
      "cell_type": "code",
      "source": [
        "X_grid = np.arange(min(X), max(X), 0.01)\n",
        "X_grid = X_grid.reshape((len(X_grid), 1))\n",
        "plt.scatter(X_test, y_test, color = 'grey')\n",
        "plt.scatter(X_test, y_pred, color = 'green')\n",
        "plt.title('Decision Tree Regression')\n",
        "plt.xlabel('Temperature')\n",
        "plt.ylabel('Revenue')\n",
        "plt.show()\n",
        "\n",
        "plt.plot(X_grid, regressor.predict(X_grid), color = 'orange')\n",
        "plt.title('Decision Tree Regression')\n",
        "plt.xlabel('Temperature')\n",
        "plt.ylabel('Revenue')\n",
        "plt.show()"
      ],
      "metadata": {
        "id": "yCRMAvslzJkE"
      },
      "execution_count": null,
      "outputs": []
    },
    {
      "cell_type": "markdown",
      "source": [
        "excercise"
      ],
      "metadata": {
        "id": "SrKUAC3CzgSX"
      }
    },
    {
      "cell_type": "code",
      "source": [
        "import numpy as np\n",
        "import matplotlib.pyplot as plt\n",
        "import pandas as pd"
      ],
      "metadata": {
        "id": "5t8qyQfFznNo"
      },
      "execution_count": 2,
      "outputs": []
    },
    {
      "cell_type": "code",
      "source": [
        "url = 'https://raw.githubusercontent.com/WildanBudiawanZ/pembelajaran-mesin/main/FuelConsumptionCo2.csv'\n",
        "cdf = pd.read_csv(url)\n",
        "\n",
        "cdf.describe()"
      ],
      "metadata": {
        "colab": {
          "base_uri": "https://localhost:8080/",
          "height": 364
        },
        "id": "oYofVwc6zLMp",
        "outputId": "06f6707f-05ef-4836-d37d-da7d8edd9c3e"
      },
      "execution_count": 3,
      "outputs": [
        {
          "output_type": "execute_result",
          "data": {
            "text/plain": [
              "       MODELYEAR   ENGINESIZE    CYLINDERS  FUELCONSUMPTION_CITY  \\\n",
              "count     1067.0  1067.000000  1067.000000           1067.000000   \n",
              "mean      2014.0     3.346298     5.794752             13.296532   \n",
              "std          0.0     1.415895     1.797447              4.101253   \n",
              "min       2014.0     1.000000     3.000000              4.600000   \n",
              "25%       2014.0     2.000000     4.000000             10.250000   \n",
              "50%       2014.0     3.400000     6.000000             12.600000   \n",
              "75%       2014.0     4.300000     8.000000             15.550000   \n",
              "max       2014.0     8.400000    12.000000             30.200000   \n",
              "\n",
              "       FUELCONSUMPTION_HWY  FUELCONSUMPTION_COMB  FUELCONSUMPTION_COMB_MPG  \\\n",
              "count          1067.000000           1067.000000               1067.000000   \n",
              "mean              9.474602             11.580881                 26.441425   \n",
              "std               2.794510              3.485595                  7.468702   \n",
              "min               4.900000              4.700000                 11.000000   \n",
              "25%               7.500000              9.000000                 21.000000   \n",
              "50%               8.800000             10.900000                 26.000000   \n",
              "75%              10.850000             13.350000                 31.000000   \n",
              "max              20.500000             25.800000                 60.000000   \n",
              "\n",
              "       CO2EMISSIONS  \n",
              "count   1067.000000  \n",
              "mean     256.228679  \n",
              "std       63.372304  \n",
              "min      108.000000  \n",
              "25%      207.000000  \n",
              "50%      251.000000  \n",
              "75%      294.000000  \n",
              "max      488.000000  "
            ],
            "text/html": [
              "\n",
              "  <div id=\"df-aee5ec75-e800-468e-9022-3b16d1e61af6\">\n",
              "    <div class=\"colab-df-container\">\n",
              "      <div>\n",
              "<style scoped>\n",
              "    .dataframe tbody tr th:only-of-type {\n",
              "        vertical-align: middle;\n",
              "    }\n",
              "\n",
              "    .dataframe tbody tr th {\n",
              "        vertical-align: top;\n",
              "    }\n",
              "\n",
              "    .dataframe thead th {\n",
              "        text-align: right;\n",
              "    }\n",
              "</style>\n",
              "<table border=\"1\" class=\"dataframe\">\n",
              "  <thead>\n",
              "    <tr style=\"text-align: right;\">\n",
              "      <th></th>\n",
              "      <th>MODELYEAR</th>\n",
              "      <th>ENGINESIZE</th>\n",
              "      <th>CYLINDERS</th>\n",
              "      <th>FUELCONSUMPTION_CITY</th>\n",
              "      <th>FUELCONSUMPTION_HWY</th>\n",
              "      <th>FUELCONSUMPTION_COMB</th>\n",
              "      <th>FUELCONSUMPTION_COMB_MPG</th>\n",
              "      <th>CO2EMISSIONS</th>\n",
              "    </tr>\n",
              "  </thead>\n",
              "  <tbody>\n",
              "    <tr>\n",
              "      <th>count</th>\n",
              "      <td>1067.0</td>\n",
              "      <td>1067.000000</td>\n",
              "      <td>1067.000000</td>\n",
              "      <td>1067.000000</td>\n",
              "      <td>1067.000000</td>\n",
              "      <td>1067.000000</td>\n",
              "      <td>1067.000000</td>\n",
              "      <td>1067.000000</td>\n",
              "    </tr>\n",
              "    <tr>\n",
              "      <th>mean</th>\n",
              "      <td>2014.0</td>\n",
              "      <td>3.346298</td>\n",
              "      <td>5.794752</td>\n",
              "      <td>13.296532</td>\n",
              "      <td>9.474602</td>\n",
              "      <td>11.580881</td>\n",
              "      <td>26.441425</td>\n",
              "      <td>256.228679</td>\n",
              "    </tr>\n",
              "    <tr>\n",
              "      <th>std</th>\n",
              "      <td>0.0</td>\n",
              "      <td>1.415895</td>\n",
              "      <td>1.797447</td>\n",
              "      <td>4.101253</td>\n",
              "      <td>2.794510</td>\n",
              "      <td>3.485595</td>\n",
              "      <td>7.468702</td>\n",
              "      <td>63.372304</td>\n",
              "    </tr>\n",
              "    <tr>\n",
              "      <th>min</th>\n",
              "      <td>2014.0</td>\n",
              "      <td>1.000000</td>\n",
              "      <td>3.000000</td>\n",
              "      <td>4.600000</td>\n",
              "      <td>4.900000</td>\n",
              "      <td>4.700000</td>\n",
              "      <td>11.000000</td>\n",
              "      <td>108.000000</td>\n",
              "    </tr>\n",
              "    <tr>\n",
              "      <th>25%</th>\n",
              "      <td>2014.0</td>\n",
              "      <td>2.000000</td>\n",
              "      <td>4.000000</td>\n",
              "      <td>10.250000</td>\n",
              "      <td>7.500000</td>\n",
              "      <td>9.000000</td>\n",
              "      <td>21.000000</td>\n",
              "      <td>207.000000</td>\n",
              "    </tr>\n",
              "    <tr>\n",
              "      <th>50%</th>\n",
              "      <td>2014.0</td>\n",
              "      <td>3.400000</td>\n",
              "      <td>6.000000</td>\n",
              "      <td>12.600000</td>\n",
              "      <td>8.800000</td>\n",
              "      <td>10.900000</td>\n",
              "      <td>26.000000</td>\n",
              "      <td>251.000000</td>\n",
              "    </tr>\n",
              "    <tr>\n",
              "      <th>75%</th>\n",
              "      <td>2014.0</td>\n",
              "      <td>4.300000</td>\n",
              "      <td>8.000000</td>\n",
              "      <td>15.550000</td>\n",
              "      <td>10.850000</td>\n",
              "      <td>13.350000</td>\n",
              "      <td>31.000000</td>\n",
              "      <td>294.000000</td>\n",
              "    </tr>\n",
              "    <tr>\n",
              "      <th>max</th>\n",
              "      <td>2014.0</td>\n",
              "      <td>8.400000</td>\n",
              "      <td>12.000000</td>\n",
              "      <td>30.200000</td>\n",
              "      <td>20.500000</td>\n",
              "      <td>25.800000</td>\n",
              "      <td>60.000000</td>\n",
              "      <td>488.000000</td>\n",
              "    </tr>\n",
              "  </tbody>\n",
              "</table>\n",
              "</div>\n",
              "      <button class=\"colab-df-convert\" onclick=\"convertToInteractive('df-aee5ec75-e800-468e-9022-3b16d1e61af6')\"\n",
              "              title=\"Convert this dataframe to an interactive table.\"\n",
              "              style=\"display:none;\">\n",
              "        \n",
              "  <svg xmlns=\"http://www.w3.org/2000/svg\" height=\"24px\"viewBox=\"0 0 24 24\"\n",
              "       width=\"24px\">\n",
              "    <path d=\"M0 0h24v24H0V0z\" fill=\"none\"/>\n",
              "    <path d=\"M18.56 5.44l.94 2.06.94-2.06 2.06-.94-2.06-.94-.94-2.06-.94 2.06-2.06.94zm-11 1L8.5 8.5l.94-2.06 2.06-.94-2.06-.94L8.5 2.5l-.94 2.06-2.06.94zm10 10l.94 2.06.94-2.06 2.06-.94-2.06-.94-.94-2.06-.94 2.06-2.06.94z\"/><path d=\"M17.41 7.96l-1.37-1.37c-.4-.4-.92-.59-1.43-.59-.52 0-1.04.2-1.43.59L10.3 9.45l-7.72 7.72c-.78.78-.78 2.05 0 2.83L4 21.41c.39.39.9.59 1.41.59.51 0 1.02-.2 1.41-.59l7.78-7.78 2.81-2.81c.8-.78.8-2.07 0-2.86zM5.41 20L4 18.59l7.72-7.72 1.47 1.35L5.41 20z\"/>\n",
              "  </svg>\n",
              "      </button>\n",
              "      \n",
              "  <style>\n",
              "    .colab-df-container {\n",
              "      display:flex;\n",
              "      flex-wrap:wrap;\n",
              "      gap: 12px;\n",
              "    }\n",
              "\n",
              "    .colab-df-convert {\n",
              "      background-color: #E8F0FE;\n",
              "      border: none;\n",
              "      border-radius: 50%;\n",
              "      cursor: pointer;\n",
              "      display: none;\n",
              "      fill: #1967D2;\n",
              "      height: 32px;\n",
              "      padding: 0 0 0 0;\n",
              "      width: 32px;\n",
              "    }\n",
              "\n",
              "    .colab-df-convert:hover {\n",
              "      background-color: #E2EBFA;\n",
              "      box-shadow: 0px 1px 2px rgba(60, 64, 67, 0.3), 0px 1px 3px 1px rgba(60, 64, 67, 0.15);\n",
              "      fill: #174EA6;\n",
              "    }\n",
              "\n",
              "    [theme=dark] .colab-df-convert {\n",
              "      background-color: #3B4455;\n",
              "      fill: #D2E3FC;\n",
              "    }\n",
              "\n",
              "    [theme=dark] .colab-df-convert:hover {\n",
              "      background-color: #434B5C;\n",
              "      box-shadow: 0px 1px 3px 1px rgba(0, 0, 0, 0.15);\n",
              "      filter: drop-shadow(0px 1px 2px rgba(0, 0, 0, 0.3));\n",
              "      fill: #FFFFFF;\n",
              "    }\n",
              "  </style>\n",
              "\n",
              "      <script>\n",
              "        const buttonEl =\n",
              "          document.querySelector('#df-aee5ec75-e800-468e-9022-3b16d1e61af6 button.colab-df-convert');\n",
              "        buttonEl.style.display =\n",
              "          google.colab.kernel.accessAllowed ? 'block' : 'none';\n",
              "\n",
              "        async function convertToInteractive(key) {\n",
              "          const element = document.querySelector('#df-aee5ec75-e800-468e-9022-3b16d1e61af6');\n",
              "          const dataTable =\n",
              "            await google.colab.kernel.invokeFunction('convertToInteractive',\n",
              "                                                     [key], {});\n",
              "          if (!dataTable) return;\n",
              "\n",
              "          const docLinkHtml = 'Like what you see? Visit the ' +\n",
              "            '<a target=\"_blank\" href=https://colab.research.google.com/notebooks/data_table.ipynb>data table notebook</a>'\n",
              "            + ' to learn more about interactive tables.';\n",
              "          element.innerHTML = '';\n",
              "          dataTable['output_type'] = 'display_data';\n",
              "          await google.colab.output.renderOutput(dataTable, element);\n",
              "          const docLink = document.createElement('div');\n",
              "          docLink.innerHTML = docLinkHtml;\n",
              "          element.appendChild(docLink);\n",
              "        }\n",
              "      </script>\n",
              "    </div>\n",
              "  </div>\n",
              "  "
            ]
          },
          "metadata": {},
          "execution_count": 3
        }
      ]
    },
    {
      "cell_type": "code",
      "source": [
        "cdf.head()\n"
      ],
      "metadata": {
        "id": "nzYcYfoTzrRW"
      },
      "execution_count": null,
      "outputs": []
    },
    {
      "cell_type": "code",
      "source": [
        "plt.scatter(cdf.ENGINESIZE, cdf.CO2EMISSIONS,  color='grey')\n",
        "plt.xlabel(\"Ukuran Mesin\")\n",
        "plt.ylabel(\"Emisi\")\n",
        "plt.show()"
      ],
      "metadata": {
        "id": "YYhfCUxEztPP"
      },
      "execution_count": null,
      "outputs": []
    },
    {
      "cell_type": "code",
      "source": [
        "# get the \"engine size\" as the independent variable (regressor)\n",
        "X = cdf.iloc[:, 4].values\n",
        "\n",
        "# get the \"emission\" as the dependent variable\n",
        "y = cdf.iloc[:, 12].values\n",
        "\n",
        "\n",
        "# Reshape data because only use one features in \"engine size\"\n",
        "X = X.reshape(-1,1)\n",
        "\n",
        "# Reshape data because only one features\n",
        "y = y.reshape(-1,1)\n",
        "\n",
        "# Splitting the dataset into the Training set and Test set\n",
        "X_train, X_test, y_train, y_test = train_test_split(X, y, test_size = 0.2, random_state = 0)\n",
        "\n",
        "# Feature Scaling\n",
        "sc_X = StandardScaler()\n",
        "sc_y = StandardScaler()\n",
        "X = sc_X.fit_transform(X)\n",
        "y = sc_y.fit_transform(y)"
      ],
      "metadata": {
        "id": "5pKkjYTAzyRX"
      },
      "execution_count": null,
      "outputs": []
    },
    {
      "cell_type": "code",
      "source": [
        "regressor = RandomForestRegressor(n_estimators = 100)\n",
        "regressor.fit(X, y)"
      ],
      "metadata": {
        "id": "Kfr30wDNz0d_"
      },
      "execution_count": null,
      "outputs": []
    },
    {
      "cell_type": "code",
      "source": [
        "y_pred = regressor.predict(sc_X.transform(np.array([[1.3]])))\n",
        "\n",
        "y_pred = y_pred.reshape(-1, 1)\n",
        "y_pred = sc_y.inverse_transform(y_pred)\n",
        "y_pred"
      ],
      "metadata": {
        "id": "wPcskUhJz2DR"
      },
      "execution_count": null,
      "outputs": []
    },
    {
      "cell_type": "code",
      "source": [
        "X_grid = np.arange(min(X), max(X), 0.01)\n",
        "X_grid = X_grid.reshape((len(X_grid), 1))\n",
        "plt.scatter(X, y, color = 'grey')\n",
        "plt.plot(X_grid, regressor.predict(X_grid), color = 'orange')\n",
        "plt.title('Emission Dataset')\n",
        "plt.xlabel('Engine Size')\n",
        "plt.ylabel('Emission')\n",
        "plt.show()"
      ],
      "metadata": {
        "id": "G6495_xOz32f"
      },
      "execution_count": null,
      "outputs": []
    }
  ]
}